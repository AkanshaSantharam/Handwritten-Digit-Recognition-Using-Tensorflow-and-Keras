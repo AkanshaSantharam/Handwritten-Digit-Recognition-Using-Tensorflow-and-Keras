{
  "nbformat": 4,
  "nbformat_minor": 0,
  "metadata": {
    "colab": {
      "name": "Handwritten_Digit_Recognition_using_Keras_and_Tensorflow.ipynb",
      "provenance": [],
      "collapsed_sections": []
    },
    "kernelspec": {
      "name": "python3",
      "display_name": "Python 3"
    },
    "accelerator": "GPU"
  },
  "cells": [
    {
      "cell_type": "markdown",
      "metadata": {
        "id": "REnfdi4vcSM-"
      },
      "source": [
        "# Handwritten Digit Recognition using Keras and Tensorflow"
      ]
    },
    {
      "cell_type": "markdown",
      "metadata": {
        "id": "rwUMhqy2lZWb"
      },
      "source": [
        "# The MNIST dataset"
      ]
    },
    {
      "cell_type": "markdown",
      "metadata": {
        "id": "mq6QUPc5lcFb"
      },
      "source": [
        "> \n",
        "This is probably one of the most popular datasets among machine learning and deep learning enthusiasts. The MNIST dataset contains 60,000 training images of handwritten digits from zero to nine and 10,000 images for testing. So, the MNIST dataset has 10 different classes. The handwritten digits images are represented as a 28×28 matrix where each cell contains grayscale pixel value."
      ]
    },
    {
      "cell_type": "markdown",
      "metadata": {
        "id": "n19UHyDNll0a"
      },
      "source": [
        "# 1. Import the libraries and load the dataset"
      ]
    },
    {
      "cell_type": "markdown",
      "metadata": {
        "id": "2mtVPXmAlpKs"
      },
      "source": [
        "First, we are going to import all the modules that we are going to need for training our model. The Keras library already contains some datasets and MNIST is one of them. So we can easily import the dataset and start working with it. The mnist.load_data() method returns us the training data, its labels and also the testing data and its labels."
      ]
    },
    {
      "cell_type": "code",
      "metadata": {
        "id": "DwwrBb9GgiE5"
      },
      "source": [
        "import keras\n",
        "import numpy as np"
      ],
      "execution_count": 1,
      "outputs": []
    },
    {
      "cell_type": "code",
      "metadata": {
        "id": "Trgt6IEDhFnu"
      },
      "source": [
        "from keras.datasets import mnist"
      ],
      "execution_count": 2,
      "outputs": []
    },
    {
      "cell_type": "code",
      "metadata": {
        "id": "x69ayPMph0og"
      },
      "source": [
        "data = mnist.load_data()"
      ],
      "execution_count": 3,
      "outputs": []
    },
    {
      "cell_type": "code",
      "metadata": {
        "id": "s-S46UF-h_42"
      },
      "source": [
        "(train_images, train_labels), (test_images, test_labels) = data"
      ],
      "execution_count": 4,
      "outputs": []
    },
    {
      "cell_type": "code",
      "metadata": {
        "colab": {
          "base_uri": "https://localhost:8080/"
        },
        "id": "sEk7wFkFiShx",
        "outputId": "debf2549-60fc-4875-eb57-8c2a0c1aea2c"
      },
      "source": [
        "len(train_images)"
      ],
      "execution_count": 5,
      "outputs": [
        {
          "output_type": "execute_result",
          "data": {
            "text/plain": [
              "60000"
            ]
          },
          "metadata": {
            "tags": []
          },
          "execution_count": 5
        }
      ]
    },
    {
      "cell_type": "code",
      "metadata": {
        "colab": {
          "base_uri": "https://localhost:8080/"
        },
        "id": "TQiMoqqniayI",
        "outputId": "2fa0980a-7b57-4130-8b53-87026d889a20"
      },
      "source": [
        "len(train_labels)"
      ],
      "execution_count": 6,
      "outputs": [
        {
          "output_type": "execute_result",
          "data": {
            "text/plain": [
              "60000"
            ]
          },
          "metadata": {
            "tags": []
          },
          "execution_count": 6
        }
      ]
    },
    {
      "cell_type": "code",
      "metadata": {
        "colab": {
          "base_uri": "https://localhost:8080/"
        },
        "id": "CVxMwPc-ieN1",
        "outputId": "d13637c1-36a6-4db6-a411-003f117ced40"
      },
      "source": [
        "len(test_images)"
      ],
      "execution_count": 7,
      "outputs": [
        {
          "output_type": "execute_result",
          "data": {
            "text/plain": [
              "10000"
            ]
          },
          "metadata": {
            "tags": []
          },
          "execution_count": 7
        }
      ]
    },
    {
      "cell_type": "markdown",
      "metadata": {
        "id": "bjJ9t14_lzku"
      },
      "source": [
        "#2. Preprocess the data"
      ]
    },
    {
      "cell_type": "markdown",
      "metadata": {
        "id": "kGdnBoIHl4Bo"
      },
      "source": [
        "The image data cannot be fed directly into the model so we need to perform some operations and process the data to make it ready for our neural network. The dimension of the training data is (60000,28,28). The CNN model will require one more dimension so we reshape the matrix to shape (60000,28,28,1)."
      ]
    },
    {
      "cell_type": "code",
      "metadata": {
        "id": "g_lEV3RUioJb"
      },
      "source": [
        "train_images = train_images.reshape((60000, 28, 28, 1))"
      ],
      "execution_count": 8,
      "outputs": []
    },
    {
      "cell_type": "code",
      "metadata": {
        "id": "RuoBrYzwi7DG"
      },
      "source": [
        "test_images =  test_images.reshape((10000, 28, 28, 1))"
      ],
      "execution_count": 9,
      "outputs": []
    },
    {
      "cell_type": "code",
      "metadata": {
        "id": "TXAGXVm3jJpp"
      },
      "source": [
        "train_images = train_images.astype('float')/255"
      ],
      "execution_count": 10,
      "outputs": []
    },
    {
      "cell_type": "code",
      "metadata": {
        "id": "46B9NjLZkxQD"
      },
      "source": [
        "test_images = test_images.astype('float')/255"
      ],
      "execution_count": 11,
      "outputs": []
    },
    {
      "cell_type": "code",
      "metadata": {
        "id": "4UvpcZyAk_el"
      },
      "source": [
        "from keras.preprocessing import image\n",
        "import matplotlib.pyplot as plt"
      ],
      "execution_count": 12,
      "outputs": []
    },
    {
      "cell_type": "code",
      "metadata": {
        "colab": {
          "base_uri": "https://localhost:8080/",
          "height": 282
        },
        "id": "4Mx-Ah1veohK",
        "outputId": "930398ca-9088-4724-890e-3c7fbfcbb728"
      },
      "source": [
        "plt.imshow(image.array_to_img(train_images[4]),cmap=\"gray\")"
      ],
      "execution_count": 13,
      "outputs": [
        {
          "output_type": "execute_result",
          "data": {
            "text/plain": [
              "<matplotlib.image.AxesImage at 0x7fefc5c096d0>"
            ]
          },
          "metadata": {
            "tags": []
          },
          "execution_count": 13
        },
        {
          "output_type": "display_data",
          "data": {
            "image/png": "[encoded data removed]",
            "text/plain": [
              "<Figure size 432x288 with 1 Axes>"
            ]
          },
          "metadata": {
            "tags": [],
            "needs_background": "light"
          }
        }
      ]
    },
    {
      "cell_type": "code",
      "metadata": {
        "colab": {
          "base_uri": "https://localhost:8080/"
        },
        "id": "DAn6hLGHfb2g",
        "outputId": "bb4f87e6-c0b7-42c4-fa7b-58482d638e4a"
      },
      "source": [
        "train_labels[4]"
      ],
      "execution_count": 14,
      "outputs": [
        {
          "output_type": "execute_result",
          "data": {
            "text/plain": [
              "9"
            ]
          },
          "metadata": {
            "tags": []
          },
          "execution_count": 14
        }
      ]
    },
    {
      "cell_type": "code",
      "metadata": {
        "id": "Py2jcP-fftBh"
      },
      "source": [
        "from tensorflow.keras.utils import to_categorical\n",
        "\n",
        "train_labels_original = train_labels\n",
        "train_labels = to_categorical(train_labels)"
      ],
      "execution_count": 15,
      "outputs": []
    },
    {
      "cell_type": "code",
      "metadata": {
        "colab": {
          "base_uri": "https://localhost:8080/"
        },
        "id": "g5EStd6sjEZU",
        "outputId": "5b4b0acb-03cf-4684-990d-5294692ee38b"
      },
      "source": [
        "train_labels[20]"
      ],
      "execution_count": 16,
      "outputs": [
        {
          "output_type": "execute_result",
          "data": {
            "text/plain": [
              "array([0., 0., 0., 0., 1., 0., 0., 0., 0., 0.], dtype=float32)"
            ]
          },
          "metadata": {
            "tags": []
          },
          "execution_count": 16
        }
      ]
    },
    {
      "cell_type": "code",
      "metadata": {
        "id": "67zyovEmjQZ6"
      },
      "source": [
        "test_labels_original =  test_labels\n",
        "test_labels =  to_categorical(test_labels)"
      ],
      "execution_count": 17,
      "outputs": []
    },
    {
      "cell_type": "code",
      "metadata": {
        "colab": {
          "base_uri": "https://localhost:8080/"
        },
        "id": "onwX7bfCj1je",
        "outputId": "c08f8a64-ca62-464b-9665-5ace1358798d"
      },
      "source": [
        "test_labels_original[7]"
      ],
      "execution_count": 18,
      "outputs": [
        {
          "output_type": "execute_result",
          "data": {
            "text/plain": [
              "9"
            ]
          },
          "metadata": {
            "tags": []
          },
          "execution_count": 18
        }
      ]
    },
    {
      "cell_type": "code",
      "metadata": {
        "colab": {
          "base_uri": "https://localhost:8080/"
        },
        "id": "JFDW0R-kkBXG",
        "outputId": "122589b6-4eaa-40f6-93e1-324db57f7ed7"
      },
      "source": [
        "test_labels[7]"
      ],
      "execution_count": 19,
      "outputs": [
        {
          "output_type": "execute_result",
          "data": {
            "text/plain": [
              "array([0., 0., 0., 0., 0., 0., 0., 0., 0., 1.], dtype=float32)"
            ]
          },
          "metadata": {
            "tags": []
          },
          "execution_count": 19
        }
      ]
    },
    {
      "cell_type": "markdown",
      "metadata": {
        "id": "BwtdmcikmBLN"
      },
      "source": [
        "# 3. Create the model"
      ]
    },
    {
      "cell_type": "markdown",
      "metadata": {
        "id": "DkcsIFiymCI5"
      },
      "source": [
        "Now we will create our CNN model in Python data science project. A CNN model generally consists of convolutional and pooling layers. It works better for data that are represented as grid structures, this is the reason why CNN works well for image classification problems. The dropout layer is used to deactivate some of the neurons and while training, it reduces offer fitting of the model. We will then compile the model with the Adadelta optimizer."
      ]
    },
    {
      "cell_type": "code",
      "metadata": {
        "id": "i6crS3sAlN1E"
      },
      "source": [
        "from keras import layers, models"
      ],
      "execution_count": 20,
      "outputs": []
    },
    {
      "cell_type": "code",
      "metadata": {
        "id": "WMWBRMTDoeaJ"
      },
      "source": [
        "model = models.Sequential()"
      ],
      "execution_count": 21,
      "outputs": []
    },
    {
      "cell_type": "code",
      "metadata": {
        "id": "SKFb-0Avol8f"
      },
      "source": [
        "model.add(layers.Conv2D(32, (3,3), activation='relu', input_shape = (28, 28, 1)))"
      ],
      "execution_count": 22,
      "outputs": []
    },
    {
      "cell_type": "code",
      "metadata": {
        "colab": {
          "base_uri": "https://localhost:8080/"
        },
        "id": "5NNcfoYrrc4V",
        "outputId": "56685b56-9ef6-43dd-d48d-c979cb99e628"
      },
      "source": [
        "model.summary()"
      ],
      "execution_count": 23,
      "outputs": [
        {
          "output_type": "stream",
          "text": [
            "Model: \"sequential\"\n",
            "_________________________________________________________________\n",
            "Layer (type)                 Output Shape              Param #   \n",
            "=================================================================\n",
            "conv2d (Conv2D)              (None, 26, 26, 32)        320       \n",
            "=================================================================\n",
            "Total params: 320\n",
            "Trainable params: 320\n",
            "Non-trainable params: 0\n",
            "_________________________________________________________________\n"
          ],
          "name": "stdout"
        }
      ]
    },
    {
      "cell_type": "code",
      "metadata": {
        "id": "DNsAUQR9rrhL"
      },
      "source": [
        "model.add(layers.MaxPooling2D((2,2)))"
      ],
      "execution_count": 24,
      "outputs": []
    },
    {
      "cell_type": "code",
      "metadata": {
        "id": "CjeRPoUOsCYP"
      },
      "source": [
        "model.add(layers.Conv2D(64,(3,3), activation='relu'))"
      ],
      "execution_count": 25,
      "outputs": []
    },
    {
      "cell_type": "code",
      "metadata": {
        "colab": {
          "base_uri": "https://localhost:8080/"
        },
        "id": "oN40JA3gspyC",
        "outputId": "af50eac8-0b10-4bfe-c67d-804a6bd84c9f"
      },
      "source": [
        "model.summary()"
      ],
      "execution_count": 26,
      "outputs": [
        {
          "output_type": "stream",
          "text": [
            "Model: \"sequential\"\n",
            "_________________________________________________________________\n",
            "Layer (type)                 Output Shape              Param #   \n",
            "=================================================================\n",
            "conv2d (Conv2D)              (None, 26, 26, 32)        320       \n",
            "_________________________________________________________________\n",
            "max_pooling2d (MaxPooling2D) (None, 13, 13, 32)        0         \n",
            "_________________________________________________________________\n",
            "conv2d_1 (Conv2D)            (None, 11, 11, 64)        18496     \n",
            "=================================================================\n",
            "Total params: 18,816\n",
            "Trainable params: 18,816\n",
            "Non-trainable params: 0\n",
            "_________________________________________________________________\n"
          ],
          "name": "stdout"
        }
      ]
    },
    {
      "cell_type": "code",
      "metadata": {
        "id": "FPALZquCtJ81"
      },
      "source": [
        "model.add(layers.MaxPooling2D((2,2)))"
      ],
      "execution_count": 27,
      "outputs": []
    },
    {
      "cell_type": "code",
      "metadata": {
        "id": "TCQ2Qb-DssPE"
      },
      "source": [
        "model.add(layers.Conv2D(64, (3,3), activation='relu'))"
      ],
      "execution_count": 28,
      "outputs": []
    },
    {
      "cell_type": "code",
      "metadata": {
        "colab": {
          "base_uri": "https://localhost:8080/"
        },
        "id": "zwZnWz4RvKk-",
        "outputId": "f4fdafde-c43e-4988-9421-41e1ed1c8de5"
      },
      "source": [
        "model.summary()"
      ],
      "execution_count": 29,
      "outputs": [
        {
          "output_type": "stream",
          "text": [
            "Model: \"sequential\"\n",
            "_________________________________________________________________\n",
            "Layer (type)                 Output Shape              Param #   \n",
            "=================================================================\n",
            "conv2d (Conv2D)              (None, 26, 26, 32)        320       \n",
            "_________________________________________________________________\n",
            "max_pooling2d (MaxPooling2D) (None, 13, 13, 32)        0         \n",
            "_________________________________________________________________\n",
            "conv2d_1 (Conv2D)            (None, 11, 11, 64)        18496     \n",
            "_________________________________________________________________\n",
            "max_pooling2d_1 (MaxPooling2 (None, 5, 5, 64)          0         \n",
            "_________________________________________________________________\n",
            "conv2d_2 (Conv2D)            (None, 3, 3, 64)          36928     \n",
            "=================================================================\n",
            "Total params: 55,744\n",
            "Trainable params: 55,744\n",
            "Non-trainable params: 0\n",
            "_________________________________________________________________\n"
          ],
          "name": "stdout"
        }
      ]
    },
    {
      "cell_type": "code",
      "metadata": {
        "id": "7gGC5h7evgc4"
      },
      "source": [
        "model.add(layers.Flatten())"
      ],
      "execution_count": 30,
      "outputs": []
    },
    {
      "cell_type": "code",
      "metadata": {
        "colab": {
          "base_uri": "https://localhost:8080/"
        },
        "id": "0FH1uduXvl0I",
        "outputId": "8796df74-7e9a-45e5-d2e0-52c7217393fa"
      },
      "source": [
        "model.summary()"
      ],
      "execution_count": 31,
      "outputs": [
        {
          "output_type": "stream",
          "text": [
            "Model: \"sequential\"\n",
            "_________________________________________________________________\n",
            "Layer (type)                 Output Shape              Param #   \n",
            "=================================================================\n",
            "conv2d (Conv2D)              (None, 26, 26, 32)        320       \n",
            "_________________________________________________________________\n",
            "max_pooling2d (MaxPooling2D) (None, 13, 13, 32)        0         \n",
            "_________________________________________________________________\n",
            "conv2d_1 (Conv2D)            (None, 11, 11, 64)        18496     \n",
            "_________________________________________________________________\n",
            "max_pooling2d_1 (MaxPooling2 (None, 5, 5, 64)          0         \n",
            "_________________________________________________________________\n",
            "conv2d_2 (Conv2D)            (None, 3, 3, 64)          36928     \n",
            "_________________________________________________________________\n",
            "flatten (Flatten)            (None, 576)               0         \n",
            "=================================================================\n",
            "Total params: 55,744\n",
            "Trainable params: 55,744\n",
            "Non-trainable params: 0\n",
            "_________________________________________________________________\n"
          ],
          "name": "stdout"
        }
      ]
    },
    {
      "cell_type": "code",
      "metadata": {
        "id": "qdh81IFTv2qP"
      },
      "source": [
        "model.add(layers.Dense(64, activation='relu'))"
      ],
      "execution_count": 32,
      "outputs": []
    },
    {
      "cell_type": "code",
      "metadata": {
        "id": "0YXCpKBSv9_Z"
      },
      "source": [
        "model.add(layers.Dense(10, activation='softmax'))"
      ],
      "execution_count": 33,
      "outputs": []
    },
    {
      "cell_type": "code",
      "metadata": {
        "colab": {
          "base_uri": "https://localhost:8080/"
        },
        "id": "DrPIGm_jwH2p",
        "outputId": "22e5afc3-0ad9-49ae-dede-3d2b7f7acd4c"
      },
      "source": [
        "model.summary()"
      ],
      "execution_count": 34,
      "outputs": [
        {
          "output_type": "stream",
          "text": [
            "Model: \"sequential\"\n",
            "_________________________________________________________________\n",
            "Layer (type)                 Output Shape              Param #   \n",
            "=================================================================\n",
            "conv2d (Conv2D)              (None, 26, 26, 32)        320       \n",
            "_________________________________________________________________\n",
            "max_pooling2d (MaxPooling2D) (None, 13, 13, 32)        0         \n",
            "_________________________________________________________________\n",
            "conv2d_1 (Conv2D)            (None, 11, 11, 64)        18496     \n",
            "_________________________________________________________________\n",
            "max_pooling2d_1 (MaxPooling2 (None, 5, 5, 64)          0         \n",
            "_________________________________________________________________\n",
            "conv2d_2 (Conv2D)            (None, 3, 3, 64)          36928     \n",
            "_________________________________________________________________\n",
            "flatten (Flatten)            (None, 576)               0         \n",
            "_________________________________________________________________\n",
            "dense (Dense)                (None, 64)                36928     \n",
            "_________________________________________________________________\n",
            "dense_1 (Dense)              (None, 10)                650       \n",
            "=================================================================\n",
            "Total params: 93,322\n",
            "Trainable params: 93,322\n",
            "Non-trainable params: 0\n",
            "_________________________________________________________________\n"
          ],
          "name": "stdout"
        }
      ]
    },
    {
      "cell_type": "code",
      "metadata": {
        "id": "06i1Csbhyrcz"
      },
      "source": [
        "model.compile(loss='categorical_crossentropy', optimizer='rmsprop', metrics=['accuracy'])"
      ],
      "execution_count": 35,
      "outputs": []
    },
    {
      "cell_type": "markdown",
      "metadata": {
        "id": "9RE9QRLEmM8i"
      },
      "source": [
        "# 4. Train the model"
      ]
    },
    {
      "cell_type": "markdown",
      "metadata": {
        "id": "yEmSmFHrmQAy"
      },
      "source": [
        "The model.fit() function of Keras will start the training of the model. It takes the training data, validation data, epochs, and batch size."
      ]
    },
    {
      "cell_type": "code",
      "metadata": {
        "colab": {
          "base_uri": "https://localhost:8080/"
        },
        "id": "pPqzTbeC2Kiq",
        "outputId": "f5b93993-eb71-4ce1-fe18-bfe2f348c7ec"
      },
      "source": [
        "model.fit(train_images, train_labels, epochs=100, batch_size=64)"
      ],
      "execution_count": 36,
      "outputs": [
        {
          "output_type": "stream",
          "text": [
            "Epoch 1/100\n",
            "938/938 [==============================] - 19s 4ms/step - loss: 0.3827 - accuracy: 0.8795\n",
            "Epoch 2/100\n",
            "938/938 [==============================] - 4s 4ms/step - loss: 0.0483 - accuracy: 0.9848\n",
            "Epoch 3/100\n",
            "938/938 [==============================] - 4s 4ms/step - loss: 0.0324 - accuracy: 0.9902\n",
            "Epoch 4/100\n",
            "938/938 [==============================] - 4s 4ms/step - loss: 0.0256 - accuracy: 0.9921\n",
            "Epoch 5/100\n",
            "938/938 [==============================] - 4s 4ms/step - loss: 0.0178 - accuracy: 0.9944\n",
            "Epoch 6/100\n",
            "938/938 [==============================] - 4s 4ms/step - loss: 0.0142 - accuracy: 0.9957\n",
            "Epoch 7/100\n",
            "938/938 [==============================] - 4s 4ms/step - loss: 0.0111 - accuracy: 0.9966\n",
            "Epoch 8/100\n",
            "938/938 [==============================] - 4s 4ms/step - loss: 0.0089 - accuracy: 0.9970\n",
            "Epoch 9/100\n",
            "938/938 [==============================] - 4s 4ms/step - loss: 0.0092 - accuracy: 0.9974\n",
            "Epoch 10/100\n",
            "938/938 [==============================] - 4s 4ms/step - loss: 0.0071 - accuracy: 0.9981\n",
            "Epoch 11/100\n",
            "938/938 [==============================] - 4s 4ms/step - loss: 0.0065 - accuracy: 0.9980\n",
            "Epoch 12/100\n",
            "938/938 [==============================] - 4s 4ms/step - loss: 0.0059 - accuracy: 0.9983\n",
            "Epoch 13/100\n",
            "938/938 [==============================] - 4s 4ms/step - loss: 0.0047 - accuracy: 0.9985\n",
            "Epoch 14/100\n",
            "938/938 [==============================] - 4s 4ms/step - loss: 0.0052 - accuracy: 0.9986\n",
            "Epoch 15/100\n",
            "938/938 [==============================] - 4s 4ms/step - loss: 0.0038 - accuracy: 0.9991\n",
            "Epoch 16/100\n",
            "938/938 [==============================] - 4s 4ms/step - loss: 0.0040 - accuracy: 0.9987\n",
            "Epoch 17/100\n",
            "938/938 [==============================] - 4s 4ms/step - loss: 0.0037 - accuracy: 0.9990\n",
            "Epoch 18/100\n",
            "938/938 [==============================] - 4s 4ms/step - loss: 0.0038 - accuracy: 0.9988\n",
            "Epoch 19/100\n",
            "938/938 [==============================] - 4s 4ms/step - loss: 0.0021 - accuracy: 0.9994\n",
            "Epoch 20/100\n",
            "938/938 [==============================] - 4s 4ms/step - loss: 0.0030 - accuracy: 0.9992\n",
            "Epoch 21/100\n",
            "938/938 [==============================] - 4s 4ms/step - loss: 0.0016 - accuracy: 0.9995\n",
            "Epoch 22/100\n",
            "938/938 [==============================] - 4s 4ms/step - loss: 0.0022 - accuracy: 0.9994\n",
            "Epoch 23/100\n",
            "938/938 [==============================] - 4s 4ms/step - loss: 0.0025 - accuracy: 0.9993\n",
            "Epoch 24/100\n",
            "938/938 [==============================] - 4s 4ms/step - loss: 0.0021 - accuracy: 0.9995\n",
            "Epoch 25/100\n",
            "938/938 [==============================] - 4s 4ms/step - loss: 0.0020 - accuracy: 0.9995\n",
            "Epoch 26/100\n",
            "938/938 [==============================] - 4s 4ms/step - loss: 0.0019 - accuracy: 0.9996\n",
            "Epoch 27/100\n",
            "938/938 [==============================] - 4s 4ms/step - loss: 0.0019 - accuracy: 0.9996\n",
            "Epoch 28/100\n",
            "938/938 [==============================] - 4s 4ms/step - loss: 0.0031 - accuracy: 0.9994\n",
            "Epoch 29/100\n",
            "938/938 [==============================] - 4s 4ms/step - loss: 0.0035 - accuracy: 0.9993\n",
            "Epoch 30/100\n",
            "938/938 [==============================] - 4s 4ms/step - loss: 0.0010 - accuracy: 0.9997\n",
            "Epoch 31/100\n",
            "938/938 [==============================] - 4s 4ms/step - loss: 0.0017 - accuracy: 0.9995\n",
            "Epoch 32/100\n",
            "938/938 [==============================] - 4s 4ms/step - loss: 9.0450e-04 - accuracy: 0.9998\n",
            "Epoch 33/100\n",
            "938/938 [==============================] - 4s 4ms/step - loss: 0.0018 - accuracy: 0.9996\n",
            "Epoch 34/100\n",
            "938/938 [==============================] - 4s 4ms/step - loss: 0.0014 - accuracy: 0.9997\n",
            "Epoch 35/100\n",
            "938/938 [==============================] - 4s 4ms/step - loss: 0.0021 - accuracy: 0.9995\n",
            "Epoch 36/100\n",
            "938/938 [==============================] - 4s 4ms/step - loss: 8.4278e-04 - accuracy: 0.9997\n",
            "Epoch 37/100\n",
            "938/938 [==============================] - 4s 4ms/step - loss: 0.0018 - accuracy: 0.9996\n",
            "Epoch 38/100\n",
            "938/938 [==============================] - 4s 4ms/step - loss: 0.0026 - accuracy: 0.9996\n",
            "Epoch 39/100\n",
            "938/938 [==============================] - 4s 4ms/step - loss: 0.0018 - accuracy: 0.9996\n",
            "Epoch 40/100\n",
            "938/938 [==============================] - 4s 4ms/step - loss: 8.4158e-04 - accuracy: 0.9997\n",
            "Epoch 41/100\n",
            "938/938 [==============================] - 4s 4ms/step - loss: 0.0021 - accuracy: 0.9997\n",
            "Epoch 42/100\n",
            "938/938 [==============================] - 4s 4ms/step - loss: 0.0011 - accuracy: 0.9998\n",
            "Epoch 43/100\n",
            "938/938 [==============================] - 4s 4ms/step - loss: 8.1650e-04 - accuracy: 0.9997\n",
            "Epoch 44/100\n",
            "938/938 [==============================] - 4s 4ms/step - loss: 8.0380e-04 - accuracy: 0.9998\n",
            "Epoch 45/100\n",
            "938/938 [==============================] - 4s 4ms/step - loss: 0.0011 - accuracy: 0.9998\n",
            "Epoch 46/100\n",
            "938/938 [==============================] - 4s 4ms/step - loss: 0.0020 - accuracy: 0.9997\n",
            "Epoch 47/100\n",
            "938/938 [==============================] - 4s 4ms/step - loss: 0.0010 - accuracy: 0.9998\n",
            "Epoch 48/100\n",
            "938/938 [==============================] - 4s 4ms/step - loss: 0.0013 - accuracy: 0.9997\n",
            "Epoch 49/100\n",
            "938/938 [==============================] - 4s 4ms/step - loss: 6.8915e-04 - accuracy: 0.9999\n",
            "Epoch 50/100\n",
            "938/938 [==============================] - 4s 4ms/step - loss: 0.0032 - accuracy: 0.9994\n",
            "Epoch 51/100\n",
            "938/938 [==============================] - 4s 4ms/step - loss: 0.0027 - accuracy: 0.9997\n",
            "Epoch 52/100\n",
            "938/938 [==============================] - 4s 4ms/step - loss: 8.7334e-04 - accuracy: 0.9998\n",
            "Epoch 53/100\n",
            "938/938 [==============================] - 4s 4ms/step - loss: 0.0017 - accuracy: 0.9997\n",
            "Epoch 54/100\n",
            "938/938 [==============================] - 4s 4ms/step - loss: 3.6989e-04 - accuracy: 0.9999\n",
            "Epoch 55/100\n",
            "938/938 [==============================] - 4s 4ms/step - loss: 9.5865e-04 - accuracy: 0.9997\n",
            "Epoch 56/100\n",
            "938/938 [==============================] - 4s 4ms/step - loss: 0.0028 - accuracy: 0.9997\n",
            "Epoch 57/100\n",
            "938/938 [==============================] - 4s 4ms/step - loss: 0.0012 - accuracy: 0.9998\n",
            "Epoch 58/100\n",
            "938/938 [==============================] - 4s 4ms/step - loss: 0.0012 - accuracy: 0.9998\n",
            "Epoch 59/100\n",
            "938/938 [==============================] - 4s 4ms/step - loss: 3.4074e-04 - accuracy: 0.9999\n",
            "Epoch 60/100\n",
            "938/938 [==============================] - 4s 4ms/step - loss: 0.0029 - accuracy: 0.9996\n",
            "Epoch 61/100\n",
            "938/938 [==============================] - 4s 4ms/step - loss: 0.0015 - accuracy: 0.9997\n",
            "Epoch 62/100\n",
            "938/938 [==============================] - 4s 4ms/step - loss: 0.0014 - accuracy: 0.9997\n",
            "Epoch 63/100\n",
            "938/938 [==============================] - 4s 4ms/step - loss: 0.0017 - accuracy: 0.9997\n",
            "Epoch 64/100\n",
            "938/938 [==============================] - 4s 4ms/step - loss: 0.0034 - accuracy: 0.9998\n",
            "Epoch 65/100\n",
            "938/938 [==============================] - 4s 4ms/step - loss: 0.0019 - accuracy: 0.9997\n",
            "Epoch 66/100\n",
            "938/938 [==============================] - 4s 4ms/step - loss: 0.0011 - accuracy: 0.9998\n",
            "Epoch 67/100\n",
            "938/938 [==============================] - 4s 4ms/step - loss: 4.7251e-04 - accuracy: 0.9999\n",
            "Epoch 68/100\n",
            "938/938 [==============================] - 4s 4ms/step - loss: 8.8318e-04 - accuracy: 0.9998\n",
            "Epoch 69/100\n",
            "938/938 [==============================] - 4s 4ms/step - loss: 2.0223e-04 - accuracy: 1.0000\n",
            "Epoch 70/100\n",
            "938/938 [==============================] - 4s 4ms/step - loss: 8.2874e-04 - accuracy: 0.9999\n",
            "Epoch 71/100\n",
            "938/938 [==============================] - 4s 4ms/step - loss: 8.2088e-04 - accuracy: 0.9998\n",
            "Epoch 72/100\n",
            "938/938 [==============================] - 4s 4ms/step - loss: 5.1206e-04 - accuracy: 0.9999\n",
            "Epoch 73/100\n",
            "938/938 [==============================] - 4s 4ms/step - loss: 9.8966e-04 - accuracy: 0.9998\n",
            "Epoch 74/100\n",
            "938/938 [==============================] - 4s 4ms/step - loss: 6.7349e-04 - accuracy: 0.9998\n",
            "Epoch 75/100\n",
            "938/938 [==============================] - 4s 4ms/step - loss: 4.9744e-04 - accuracy: 0.9998\n",
            "Epoch 76/100\n",
            "938/938 [==============================] - 4s 4ms/step - loss: 7.6594e-04 - accuracy: 1.0000\n",
            "Epoch 77/100\n",
            "938/938 [==============================] - 4s 4ms/step - loss: 5.4970e-04 - accuracy: 0.9999\n",
            "Epoch 78/100\n",
            "938/938 [==============================] - 4s 4ms/step - loss: 0.0011 - accuracy: 0.9999\n",
            "Epoch 79/100\n",
            "938/938 [==============================] - 4s 4ms/step - loss: 0.0010 - accuracy: 0.9999\n",
            "Epoch 80/100\n",
            "938/938 [==============================] - 4s 4ms/step - loss: 0.0023 - accuracy: 0.9997\n",
            "Epoch 81/100\n",
            "938/938 [==============================] - 4s 4ms/step - loss: 0.0023 - accuracy: 0.9997\n",
            "Epoch 82/100\n",
            "938/938 [==============================] - 4s 4ms/step - loss: 0.0018 - accuracy: 0.9997\n",
            "Epoch 83/100\n",
            "938/938 [==============================] - 4s 4ms/step - loss: 8.1522e-04 - accuracy: 0.9999\n",
            "Epoch 84/100\n",
            "938/938 [==============================] - 4s 4ms/step - loss: 0.0023 - accuracy: 0.9997\n",
            "Epoch 85/100\n",
            "938/938 [==============================] - 4s 4ms/step - loss: 0.0018 - accuracy: 0.9996\n",
            "Epoch 86/100\n",
            "938/938 [==============================] - 4s 4ms/step - loss: 8.9634e-04 - accuracy: 0.9998\n",
            "Epoch 87/100\n",
            "938/938 [==============================] - 4s 4ms/step - loss: 0.0012 - accuracy: 0.9999\n",
            "Epoch 88/100\n",
            "938/938 [==============================] - 4s 4ms/step - loss: 2.7312e-04 - accuracy: 1.0000\n",
            "Epoch 89/100\n",
            "938/938 [==============================] - 4s 4ms/step - loss: 7.1227e-04 - accuracy: 0.9999\n",
            "Epoch 90/100\n",
            "938/938 [==============================] - 4s 4ms/step - loss: 4.6028e-04 - accuracy: 1.0000\n",
            "Epoch 91/100\n",
            "938/938 [==============================] - 4s 4ms/step - loss: 5.4127e-04 - accuracy: 0.9999\n",
            "Epoch 92/100\n",
            "938/938 [==============================] - 4s 4ms/step - loss: 1.5212e-04 - accuracy: 1.0000\n",
            "Epoch 93/100\n",
            "938/938 [==============================] - 4s 4ms/step - loss: 3.7873e-04 - accuracy: 0.9999\n",
            "Epoch 94/100\n",
            "938/938 [==============================] - 4s 4ms/step - loss: 0.0012 - accuracy: 0.9998\n",
            "Epoch 95/100\n",
            "938/938 [==============================] - 4s 4ms/step - loss: 2.0715e-04 - accuracy: 0.9999\n",
            "Epoch 96/100\n",
            "938/938 [==============================] - 4s 4ms/step - loss: 2.3202e-04 - accuracy: 1.0000\n",
            "Epoch 97/100\n",
            "938/938 [==============================] - 4s 4ms/step - loss: 6.0739e-04 - accuracy: 0.9999\n",
            "Epoch 98/100\n",
            "938/938 [==============================] - 4s 4ms/step - loss: 0.0014 - accuracy: 0.9998\n",
            "Epoch 99/100\n",
            "938/938 [==============================] - 4s 4ms/step - loss: 6.0836e-04 - accuracy: 0.9999\n",
            "Epoch 100/100\n",
            "938/938 [==============================] - 4s 4ms/step - loss: 4.1750e-04 - accuracy: 0.9999\n"
          ],
          "name": "stdout"
        },
        {
          "output_type": "execute_result",
          "data": {
            "text/plain": [
              "<keras.callbacks.History at 0x7fefb03cae50>"
            ]
          },
          "metadata": {
            "tags": []
          },
          "execution_count": 36
        }
      ]
    },
    {
      "cell_type": "code",
      "metadata": {
        "colab": {
          "base_uri": "https://localhost:8080/"
        },
        "id": "VcLTQjwVChp-",
        "outputId": "a3cb5b84-989f-4ea7-8cff-271815475672"
      },
      "source": [
        "test_loss, test_accuracy = model.evaluate(test_images, test_labels)"
      ],
      "execution_count": 37,
      "outputs": [
        {
          "output_type": "stream",
          "text": [
            "313/313 [==============================] - 1s 2ms/step - loss: 0.2577 - accuracy: 0.9912\n"
          ],
          "name": "stdout"
        }
      ]
    },
    {
      "cell_type": "code",
      "metadata": {
        "colab": {
          "base_uri": "https://localhost:8080/"
        },
        "id": "Q3DD3AQsDSZQ",
        "outputId": "8f0c11d3-39e1-48fb-b64d-95bde44ca17e"
      },
      "source": [
        "test_accuracy"
      ],
      "execution_count": 38,
      "outputs": [
        {
          "output_type": "execute_result",
          "data": {
            "text/plain": [
              "0.9911999702453613"
            ]
          },
          "metadata": {
            "tags": []
          },
          "execution_count": 38
        }
      ]
    },
    {
      "cell_type": "code",
      "metadata": {
        "id": "Ul34LqNFDd2X",
        "colab": {
          "base_uri": "https://localhost:8080/"
        },
        "outputId": "23a602fd-8731-43c7-d9f0-a126414a9cd3"
      },
      "source": [
        "predictions = model.predict_classes(test_images)"
      ],
      "execution_count": 39,
      "outputs": [
        {
          "output_type": "stream",
          "text": [
            "/usr/local/lib/python3.7/dist-packages/keras/engine/sequential.py:450: UserWarning: `model.predict_classes()` is deprecated and will be removed after 2021-01-01. Please use instead:* `np.argmax(model.predict(x), axis=-1)`,   if your model does multi-class classification   (e.g. if it uses a `softmax` last-layer activation).* `(model.predict(x) > 0.5).astype(\"int32\")`,   if your model does binary classification   (e.g. if it uses a `sigmoid` last-layer activation).\n",
            "  warnings.warn('`model.predict_classes()` is deprecated and '\n"
          ],
          "name": "stderr"
        }
      ]
    },
    {
      "cell_type": "code",
      "metadata": {
        "colab": {
          "base_uri": "https://localhost:8080/",
          "height": 282
        },
        "id": "jf--Y8_hDzHc",
        "outputId": "8ddb27cf-9236-4884-d100-8befd2442065"
      },
      "source": [
        "plt.imshow(image.array_to_img(test_images[70]), cmap=\"gray\")"
      ],
      "execution_count": 40,
      "outputs": [
        {
          "output_type": "execute_result",
          "data": {
            "text/plain": [
              "<matplotlib.image.AxesImage at 0x7fef6856c310>"
            ]
          },
          "metadata": {
            "tags": []
          },
          "execution_count": 40
        },
        {
          "output_type": "display_data",
          "data": {
            "image/png": "[encoded data removed]",
            "text/plain": [
              "<Figure size 432x288 with 1 Axes>"
            ]
          },
          "metadata": {
            "tags": [],
            "needs_background": "light"
          }
        }
      ]
    },
    {
      "cell_type": "code",
      "metadata": {
        "colab": {
          "base_uri": "https://localhost:8080/"
        },
        "id": "FiN-ft1cFDDd",
        "outputId": "d84577ce-12e0-442f-e80c-a7740b5341dd"
      },
      "source": [
        "predictions[70]"
      ],
      "execution_count": 41,
      "outputs": [
        {
          "output_type": "execute_result",
          "data": {
            "text/plain": [
              "7"
            ]
          },
          "metadata": {
            "tags": []
          },
          "execution_count": 41
        }
      ]
    },
    {
      "cell_type": "code",
      "metadata": {
        "id": "_UTn-2hbHUoc",
        "colab": {
          "base_uri": "https://localhost:8080/",
          "height": 352
        },
        "outputId": "172a5385-03a6-4027-eddd-53430f330e95"
      },
      "source": [
        "img=image.load_img(path=\"screen1.png\",grayscale=True, target_size=(28,28,1))\n",
        "img=image.img_to_array(img)\n",
        "\n",
        "plt.imshow(image.array_to_img(img), cmap=\"gray\")\n",
        "img=img.astype('float')/255\n",
        "test_img=img.reshape((1,28,28,1))\n",
        "\n",
        "img_class=model.predict_classes(test_img)\n",
        "prediction=img_class[0]"
      ],
      "execution_count": 42,
      "outputs": [
        {
          "output_type": "stream",
          "text": [
            "/usr/local/lib/python3.7/dist-packages/keras_preprocessing/image/utils.py:107: UserWarning: grayscale is deprecated. Please use color_mode = \"grayscale\"\n",
            "  warnings.warn('grayscale is deprecated. Please use '\n",
            "/usr/local/lib/python3.7/dist-packages/keras/engine/sequential.py:450: UserWarning: `model.predict_classes()` is deprecated and will be removed after 2021-01-01. Please use instead:* `np.argmax(model.predict(x), axis=-1)`,   if your model does multi-class classification   (e.g. if it uses a `softmax` last-layer activation).* `(model.predict(x) > 0.5).astype(\"int32\")`,   if your model does binary classification   (e.g. if it uses a `sigmoid` last-layer activation).\n",
            "  warnings.warn('`model.predict_classes()` is deprecated and '\n"
          ],
          "name": "stderr"
        },
        {
          "output_type": "display_data",
          "data": {
            "image/png": "[encoded data removed]",
            "text/plain": [
              "<Figure size 432x288 with 1 Axes>"
            ]
          },
          "metadata": {
            "tags": [],
            "needs_background": "light"
          }
        }
      ]
    },
    {
      "cell_type": "code",
      "metadata": {
        "id": "w1vrMph7ZrIB",
        "colab": {
          "base_uri": "https://localhost:8080/"
        },
        "outputId": "86f368e7-74d9-4e29-e8b9-0ef87bf280b3"
      },
      "source": [
        "prediction"
      ],
      "execution_count": 43,
      "outputs": [
        {
          "output_type": "execute_result",
          "data": {
            "text/plain": [
              "8"
            ]
          },
          "metadata": {
            "tags": []
          },
          "execution_count": 43
        }
      ]
    }
  ]
}