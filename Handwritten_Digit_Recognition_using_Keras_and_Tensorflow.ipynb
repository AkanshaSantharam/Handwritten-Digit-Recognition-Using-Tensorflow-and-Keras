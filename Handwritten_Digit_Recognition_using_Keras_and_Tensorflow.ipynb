{
  "nbformat": 4,
  "nbformat_minor": 0,
  "metadata": {
    "colab": {
      "name": " Handwritten Digit Recognition using Keras and Tensorflow",
      "provenance": [],
      "collapsed_sections": []
    },
    "kernelspec": {
      "name": "python3",
      "display_name": "Python 3"
    },
    "accelerator": "GPU"
  },
  "cells": [
    {
      "cell_type": "markdown",
      "metadata": {
        "id": "REnfdi4vcSM-"
      },
      "source": [
        "# Handwritten Digit Recognition using Keras and Tensorflow"
      ]
    },
    {
      "cell_type": "code",
      "metadata": {
        "id": "DwwrBb9GgiE5"
      },
      "source": [
        "import keras\n",
        "import numpy as np"
      ],
      "execution_count": 1,
      "outputs": []
    },
    {
      "cell_type": "code",
      "metadata": {
        "id": "Trgt6IEDhFnu"
      },
      "source": [
        "from keras.datasets import mnist"
      ],
      "execution_count": 2,
      "outputs": []
    },
    {
      "cell_type": "code",
      "metadata": {
        "id": "x69ayPMph0og"
      },
      "source": [
        "data = mnist.load_data()"
      ],
      "execution_count": 3,
      "outputs": []
    },
    {
      "cell_type": "code",
      "metadata": {
        "id": "s-S46UF-h_42"
      },
      "source": [
        "(train_images, train_labels), (test_images, test_labels) = data"
      ],
      "execution_count": 4,
      "outputs": []
    },
    {
      "cell_type": "code",
      "metadata": {
        "colab": {
          "base_uri": "https://localhost:8080/"
        },
        "id": "sEk7wFkFiShx",
        "outputId": "ffb6a3bf-a9c1-4e94-ee92-575d9667a666"
      },
      "source": [
        "len(train_images)"
      ],
      "execution_count": 5,
      "outputs": [
        {
          "output_type": "execute_result",
          "data": {
            "text/plain": [
              "60000"
            ]
          },
          "metadata": {
            "tags": []
          },
          "execution_count": 5
        }
      ]
    },
    {
      "cell_type": "code",
      "metadata": {
        "colab": {
          "base_uri": "https://localhost:8080/"
        },
        "id": "TQiMoqqniayI",
        "outputId": "326179bc-0167-4925-b512-137052613ca4"
      },
      "source": [
        "len(train_labels)"
      ],
      "execution_count": 6,
      "outputs": [
        {
          "output_type": "execute_result",
          "data": {
            "text/plain": [
              "60000"
            ]
          },
          "metadata": {
            "tags": []
          },
          "execution_count": 6
        }
      ]
    },
    {
      "cell_type": "code",
      "metadata": {
        "colab": {
          "base_uri": "https://localhost:8080/"
        },
        "id": "CVxMwPc-ieN1",
        "outputId": "e474df33-532e-4e03-fe5f-115385d02124"
      },
      "source": [
        "len(test_images)"
      ],
      "execution_count": 7,
      "outputs": [
        {
          "output_type": "execute_result",
          "data": {
            "text/plain": [
              "10000"
            ]
          },
          "metadata": {
            "tags": []
          },
          "execution_count": 7
        }
      ]
    },
    {
      "cell_type": "code",
      "metadata": {
        "id": "g_lEV3RUioJb"
      },
      "source": [
        "train_images = train_images.reshape((60000, 28, 28, 1))"
      ],
      "execution_count": 8,
      "outputs": []
    },
    {
      "cell_type": "code",
      "metadata": {
        "id": "RuoBrYzwi7DG"
      },
      "source": [
        "test_images =  test_images.reshape((10000, 28, 28, 1))"
      ],
      "execution_count": 9,
      "outputs": []
    },
    {
      "cell_type": "code",
      "metadata": {
        "id": "TXAGXVm3jJpp"
      },
      "source": [
        "train_images = train_images.astype('float')/255"
      ],
      "execution_count": 10,
      "outputs": []
    },
    {
      "cell_type": "code",
      "metadata": {
        "id": "46B9NjLZkxQD"
      },
      "source": [
        "test_images = test_images.astype('float')/255"
      ],
      "execution_count": 11,
      "outputs": []
    },
    {
      "cell_type": "code",
      "metadata": {
        "id": "4UvpcZyAk_el"
      },
      "source": [
        "from keras.preprocessing import image\n",
        "import matplotlib.pyplot as plt"
      ],
      "execution_count": 12,
      "outputs": []
    },
    {
      "cell_type": "code",
      "metadata": {
        "colab": {
          "base_uri": "https://localhost:8080/",
          "height": 282
        },
        "id": "4Mx-Ah1veohK",
        "outputId": "44238524-9e5b-4e94-d379-ebb16b26b449"
      },
      "source": [
        "plt.imshow(image.array_to_img(train_images[4]),cmap=\"gray\")"
      ],
      "execution_count": 13,
      "outputs": [
        {
          "output_type": "execute_result",
          "data": {
            "text/plain": [
              "<matplotlib.image.AxesImage at 0x7f83a6792390>"
            ]
          },
          "metadata": {
            "tags": []
          },
          "execution_count": 13
        },
        {
          "output_type": "display_data",
          "data": {
            "image/png": "[encoded data removed]",
            "text/plain": [
              "<Figure size 432x288 with 1 Axes>"
            ]
          },
          "metadata": {
            "tags": [],
            "needs_background": "light"
          }
        }
      ]
    },
    {
      "cell_type": "code",
      "metadata": {
        "colab": {
          "base_uri": "https://localhost:8080/"
        },
        "id": "DAn6hLGHfb2g",
        "outputId": "44e232b4-5fcf-4681-bff9-690f741c1e2b"
      },
      "source": [
        "train_labels[4]"
      ],
      "execution_count": 14,
      "outputs": [
        {
          "output_type": "execute_result",
          "data": {
            "text/plain": [
              "9"
            ]
          },
          "metadata": {
            "tags": []
          },
          "execution_count": 14
        }
      ]
    },
    {
      "cell_type": "code",
      "metadata": {
        "id": "Py2jcP-fftBh"
      },
      "source": [
        "from tensorflow.keras.utils import to_categorical\n",
        "\n",
        "train_labels_original = train_labels\n",
        "train_labels = to_categorical(train_labels)"
      ],
      "execution_count": 15,
      "outputs": []
    },
    {
      "cell_type": "code",
      "metadata": {
        "colab": {
          "base_uri": "https://localhost:8080/"
        },
        "id": "g5EStd6sjEZU",
        "outputId": "88081588-771f-4cd3-932c-25f66c91eabe"
      },
      "source": [
        "train_labels[20]"
      ],
      "execution_count": 16,
      "outputs": [
        {
          "output_type": "execute_result",
          "data": {
            "text/plain": [
              "array([0., 0., 0., 0., 1., 0., 0., 0., 0., 0.], dtype=float32)"
            ]
          },
          "metadata": {
            "tags": []
          },
          "execution_count": 16
        }
      ]
    },
    {
      "cell_type": "code",
      "metadata": {
        "id": "67zyovEmjQZ6"
      },
      "source": [
        "test_labels_original =  test_labels\n",
        "test_labels =  to_categorical(test_labels)"
      ],
      "execution_count": 17,
      "outputs": []
    },
    {
      "cell_type": "code",
      "metadata": {
        "colab": {
          "base_uri": "https://localhost:8080/"
        },
        "id": "onwX7bfCj1je",
        "outputId": "6f86b00b-6ca3-44ba-db3a-7e06246c73b0"
      },
      "source": [
        "test_labels_original[7]"
      ],
      "execution_count": 18,
      "outputs": [
        {
          "output_type": "execute_result",
          "data": {
            "text/plain": [
              "9"
            ]
          },
          "metadata": {
            "tags": []
          },
          "execution_count": 18
        }
      ]
    },
    {
      "cell_type": "code",
      "metadata": {
        "colab": {
          "base_uri": "https://localhost:8080/"
        },
        "id": "JFDW0R-kkBXG",
        "outputId": "50faf2d1-ad19-4f8d-c679-b45d7cd6ef95"
      },
      "source": [
        "test_labels[7]"
      ],
      "execution_count": 19,
      "outputs": [
        {
          "output_type": "execute_result",
          "data": {
            "text/plain": [
              "array([0., 0., 0., 0., 0., 0., 0., 0., 0., 1.], dtype=float32)"
            ]
          },
          "metadata": {
            "tags": []
          },
          "execution_count": 19
        }
      ]
    },
    {
      "cell_type": "code",
      "metadata": {
        "id": "i6crS3sAlN1E"
      },
      "source": [
        "from keras import layers, models"
      ],
      "execution_count": 20,
      "outputs": []
    },
    {
      "cell_type": "code",
      "metadata": {
        "id": "WMWBRMTDoeaJ"
      },
      "source": [
        "model = models.Sequential()"
      ],
      "execution_count": 21,
      "outputs": []
    },
    {
      "cell_type": "code",
      "metadata": {
        "id": "SKFb-0Avol8f"
      },
      "source": [
        "model.add(layers.Conv2D(32, (3,3), activation='relu', input_shape = (28, 28, 1)))"
      ],
      "execution_count": 22,
      "outputs": []
    },
    {
      "cell_type": "code",
      "metadata": {
        "colab": {
          "base_uri": "https://localhost:8080/"
        },
        "id": "5NNcfoYrrc4V",
        "outputId": "6c747793-a393-433c-fdd4-c9db33831721"
      },
      "source": [
        "model.summary()"
      ],
      "execution_count": 23,
      "outputs": [
        {
          "output_type": "stream",
          "text": [
            "Model: \"sequential\"\n",
            "_________________________________________________________________\n",
            "Layer (type)                 Output Shape              Param #   \n",
            "=================================================================\n",
            "conv2d (Conv2D)              (None, 26, 26, 32)        320       \n",
            "=================================================================\n",
            "Total params: 320\n",
            "Trainable params: 320\n",
            "Non-trainable params: 0\n",
            "_________________________________________________________________\n"
          ],
          "name": "stdout"
        }
      ]
    },
    {
      "cell_type": "code",
      "metadata": {
        "id": "DNsAUQR9rrhL"
      },
      "source": [
        "model.add(layers.MaxPooling2D((2,2)))"
      ],
      "execution_count": 24,
      "outputs": []
    },
    {
      "cell_type": "code",
      "metadata": {
        "id": "CjeRPoUOsCYP"
      },
      "source": [
        "model.add(layers.Conv2D(64,(3,3), activation='relu'))"
      ],
      "execution_count": 25,
      "outputs": []
    },
    {
      "cell_type": "code",
      "metadata": {
        "colab": {
          "base_uri": "https://localhost:8080/"
        },
        "id": "oN40JA3gspyC",
        "outputId": "87a6e05d-1216-417e-a899-464288717595"
      },
      "source": [
        "model.summary()"
      ],
      "execution_count": 26,
      "outputs": [
        {
          "output_type": "stream",
          "text": [
            "Model: \"sequential\"\n",
            "_________________________________________________________________\n",
            "Layer (type)                 Output Shape              Param #   \n",
            "=================================================================\n",
            "conv2d (Conv2D)              (None, 26, 26, 32)        320       \n",
            "_________________________________________________________________\n",
            "max_pooling2d (MaxPooling2D) (None, 13, 13, 32)        0         \n",
            "_________________________________________________________________\n",
            "conv2d_1 (Conv2D)            (None, 11, 11, 64)        18496     \n",
            "=================================================================\n",
            "Total params: 18,816\n",
            "Trainable params: 18,816\n",
            "Non-trainable params: 0\n",
            "_________________________________________________________________\n"
          ],
          "name": "stdout"
        }
      ]
    },
    {
      "cell_type": "code",
      "metadata": {
        "id": "FPALZquCtJ81"
      },
      "source": [
        "model.add(layers.MaxPooling2D((2,2)))"
      ],
      "execution_count": 27,
      "outputs": []
    },
    {
      "cell_type": "code",
      "metadata": {
        "id": "TCQ2Qb-DssPE"
      },
      "source": [
        "model.add(layers.Conv2D(64, (3,3), activation='relu'))"
      ],
      "execution_count": 28,
      "outputs": []
    },
    {
      "cell_type": "code",
      "metadata": {
        "colab": {
          "base_uri": "https://localhost:8080/"
        },
        "id": "zwZnWz4RvKk-",
        "outputId": "a099353a-c916-4418-b1df-30d6ee0bde39"
      },
      "source": [
        "model.summary()"
      ],
      "execution_count": 29,
      "outputs": [
        {
          "output_type": "stream",
          "text": [
            "Model: \"sequential\"\n",
            "_________________________________________________________________\n",
            "Layer (type)                 Output Shape              Param #   \n",
            "=================================================================\n",
            "conv2d (Conv2D)              (None, 26, 26, 32)        320       \n",
            "_________________________________________________________________\n",
            "max_pooling2d (MaxPooling2D) (None, 13, 13, 32)        0         \n",
            "_________________________________________________________________\n",
            "conv2d_1 (Conv2D)            (None, 11, 11, 64)        18496     \n",
            "_________________________________________________________________\n",
            "max_pooling2d_1 (MaxPooling2 (None, 5, 5, 64)          0         \n",
            "_________________________________________________________________\n",
            "conv2d_2 (Conv2D)            (None, 3, 3, 64)          36928     \n",
            "=================================================================\n",
            "Total params: 55,744\n",
            "Trainable params: 55,744\n",
            "Non-trainable params: 0\n",
            "_________________________________________________________________\n"
          ],
          "name": "stdout"
        }
      ]
    },
    {
      "cell_type": "code",
      "metadata": {
        "id": "7gGC5h7evgc4"
      },
      "source": [
        "model.add(layers.Flatten())"
      ],
      "execution_count": 30,
      "outputs": []
    },
    {
      "cell_type": "code",
      "metadata": {
        "colab": {
          "base_uri": "https://localhost:8080/"
        },
        "id": "0FH1uduXvl0I",
        "outputId": "483a739e-8cbf-4110-f7db-472666d2ac33"
      },
      "source": [
        "model.summary()"
      ],
      "execution_count": 31,
      "outputs": [
        {
          "output_type": "stream",
          "text": [
            "Model: \"sequential\"\n",
            "_________________________________________________________________\n",
            "Layer (type)                 Output Shape              Param #   \n",
            "=================================================================\n",
            "conv2d (Conv2D)              (None, 26, 26, 32)        320       \n",
            "_________________________________________________________________\n",
            "max_pooling2d (MaxPooling2D) (None, 13, 13, 32)        0         \n",
            "_________________________________________________________________\n",
            "conv2d_1 (Conv2D)            (None, 11, 11, 64)        18496     \n",
            "_________________________________________________________________\n",
            "max_pooling2d_1 (MaxPooling2 (None, 5, 5, 64)          0         \n",
            "_________________________________________________________________\n",
            "conv2d_2 (Conv2D)            (None, 3, 3, 64)          36928     \n",
            "_________________________________________________________________\n",
            "flatten (Flatten)            (None, 576)               0         \n",
            "=================================================================\n",
            "Total params: 55,744\n",
            "Trainable params: 55,744\n",
            "Non-trainable params: 0\n",
            "_________________________________________________________________\n"
          ],
          "name": "stdout"
        }
      ]
    },
    {
      "cell_type": "code",
      "metadata": {
        "id": "qdh81IFTv2qP"
      },
      "source": [
        "model.add(layers.Dense(64, activation='relu'))"
      ],
      "execution_count": 32,
      "outputs": []
    },
    {
      "cell_type": "code",
      "metadata": {
        "id": "0YXCpKBSv9_Z"
      },
      "source": [
        "model.add(layers.Dense(10, activation='softmax'))"
      ],
      "execution_count": 33,
      "outputs": []
    },
    {
      "cell_type": "code",
      "metadata": {
        "colab": {
          "base_uri": "https://localhost:8080/"
        },
        "id": "DrPIGm_jwH2p",
        "outputId": "aab659ac-90f8-4144-abb6-835dd28286df"
      },
      "source": [
        "model.summary()"
      ],
      "execution_count": 34,
      "outputs": [
        {
          "output_type": "stream",
          "text": [
            "Model: \"sequential\"\n",
            "_________________________________________________________________\n",
            "Layer (type)                 Output Shape              Param #   \n",
            "=================================================================\n",
            "conv2d (Conv2D)              (None, 26, 26, 32)        320       \n",
            "_________________________________________________________________\n",
            "max_pooling2d (MaxPooling2D) (None, 13, 13, 32)        0         \n",
            "_________________________________________________________________\n",
            "conv2d_1 (Conv2D)            (None, 11, 11, 64)        18496     \n",
            "_________________________________________________________________\n",
            "max_pooling2d_1 (MaxPooling2 (None, 5, 5, 64)          0         \n",
            "_________________________________________________________________\n",
            "conv2d_2 (Conv2D)            (None, 3, 3, 64)          36928     \n",
            "_________________________________________________________________\n",
            "flatten (Flatten)            (None, 576)               0         \n",
            "_________________________________________________________________\n",
            "dense (Dense)                (None, 64)                36928     \n",
            "_________________________________________________________________\n",
            "dense_1 (Dense)              (None, 10)                650       \n",
            "=================================================================\n",
            "Total params: 93,322\n",
            "Trainable params: 93,322\n",
            "Non-trainable params: 0\n",
            "_________________________________________________________________\n"
          ],
          "name": "stdout"
        }
      ]
    },
    {
      "cell_type": "code",
      "metadata": {
        "id": "06i1Csbhyrcz"
      },
      "source": [
        "model.compile(loss='categorical_crossentropy', optimizer='rmsprop', metrics=['accuracy'])"
      ],
      "execution_count": 35,
      "outputs": []
    },
    {
      "cell_type": "code",
      "metadata": {
        "colab": {
          "base_uri": "https://localhost:8080/"
        },
        "id": "pPqzTbeC2Kiq",
        "outputId": "e863a176-d3fe-4faa-caf3-daa35d88d003"
      },
      "source": [
        "model.fit(train_images, train_labels, epochs=100, batch_size=64)"
      ],
      "execution_count": 36,
      "outputs": [
        {
          "output_type": "stream",
          "text": [
            "Epoch 1/100\n",
            "938/938 [==============================] - 53s 9ms/step - loss: 0.3714 - accuracy: 0.8851\n",
            "Epoch 2/100\n",
            "938/938 [==============================] - 8s 8ms/step - loss: 0.0465 - accuracy: 0.9861\n",
            "Epoch 3/100\n",
            "938/938 [==============================] - 8s 9ms/step - loss: 0.0294 - accuracy: 0.9903\n",
            "Epoch 4/100\n",
            "938/938 [==============================] - 8s 8ms/step - loss: 0.0217 - accuracy: 0.9934\n",
            "Epoch 5/100\n",
            "938/938 [==============================] - 8s 8ms/step - loss: 0.0177 - accuracy: 0.9945\n",
            "Epoch 6/100\n",
            "938/938 [==============================] - 8s 8ms/step - loss: 0.0136 - accuracy: 0.9957\n",
            "Epoch 7/100\n",
            "938/938 [==============================] - 8s 8ms/step - loss: 0.0112 - accuracy: 0.9967\n",
            "Epoch 8/100\n",
            "938/938 [==============================] - 8s 8ms/step - loss: 0.0082 - accuracy: 0.9978\n",
            "Epoch 9/100\n",
            "938/938 [==============================] - 8s 8ms/step - loss: 0.0085 - accuracy: 0.9976\n",
            "Epoch 10/100\n",
            "938/938 [==============================] - 8s 9ms/step - loss: 0.0055 - accuracy: 0.9982\n",
            "Epoch 11/100\n",
            "938/938 [==============================] - 8s 9ms/step - loss: 0.0054 - accuracy: 0.9985\n",
            "Epoch 12/100\n",
            "938/938 [==============================] - 8s 8ms/step - loss: 0.0035 - accuracy: 0.9989\n",
            "Epoch 13/100\n",
            "938/938 [==============================] - 8s 9ms/step - loss: 0.0066 - accuracy: 0.9983\n",
            "Epoch 14/100\n",
            "938/938 [==============================] - 8s 8ms/step - loss: 0.0029 - accuracy: 0.9991\n",
            "Epoch 15/100\n",
            "938/938 [==============================] - 8s 9ms/step - loss: 0.0034 - accuracy: 0.9989\n",
            "Epoch 16/100\n",
            "938/938 [==============================] - 8s 9ms/step - loss: 0.0047 - accuracy: 0.9986\n",
            "Epoch 17/100\n",
            "938/938 [==============================] - 8s 9ms/step - loss: 0.0034 - accuracy: 0.9991\n",
            "Epoch 18/100\n",
            "938/938 [==============================] - 8s 8ms/step - loss: 0.0030 - accuracy: 0.9993\n",
            "Epoch 19/100\n",
            "938/938 [==============================] - 8s 8ms/step - loss: 0.0026 - accuracy: 0.9994\n",
            "Epoch 20/100\n",
            "938/938 [==============================] - 8s 9ms/step - loss: 0.0021 - accuracy: 0.9992\n",
            "Epoch 21/100\n",
            "938/938 [==============================] - 8s 9ms/step - loss: 0.0028 - accuracy: 0.9992\n",
            "Epoch 22/100\n",
            "938/938 [==============================] - 8s 8ms/step - loss: 0.0024 - accuracy: 0.9994\n",
            "Epoch 23/100\n",
            "938/938 [==============================] - 8s 8ms/step - loss: 0.0018 - accuracy: 0.9995\n",
            "Epoch 24/100\n",
            "938/938 [==============================] - 8s 8ms/step - loss: 0.0029 - accuracy: 0.9994\n",
            "Epoch 25/100\n",
            "938/938 [==============================] - 8s 8ms/step - loss: 0.0028 - accuracy: 0.9991\n",
            "Epoch 26/100\n",
            "938/938 [==============================] - 8s 8ms/step - loss: 0.0018 - accuracy: 0.9995\n",
            "Epoch 27/100\n",
            "938/938 [==============================] - 8s 8ms/step - loss: 0.0029 - accuracy: 0.9993\n",
            "Epoch 28/100\n",
            "938/938 [==============================] - 8s 8ms/step - loss: 0.0024 - accuracy: 0.9996\n",
            "Epoch 29/100\n",
            "938/938 [==============================] - 8s 8ms/step - loss: 0.0013 - accuracy: 0.9996\n",
            "Epoch 30/100\n",
            "938/938 [==============================] - 8s 8ms/step - loss: 0.0019 - accuracy: 0.9995\n",
            "Epoch 31/100\n",
            "938/938 [==============================] - 8s 8ms/step - loss: 0.0015 - accuracy: 0.9997\n",
            "Epoch 32/100\n",
            "938/938 [==============================] - 8s 8ms/step - loss: 0.0015 - accuracy: 0.9996\n",
            "Epoch 33/100\n",
            "938/938 [==============================] - 8s 8ms/step - loss: 0.0020 - accuracy: 0.9994\n",
            "Epoch 34/100\n",
            "938/938 [==============================] - 8s 8ms/step - loss: 0.0030 - accuracy: 0.9992\n",
            "Epoch 35/100\n",
            "938/938 [==============================] - 8s 8ms/step - loss: 0.0016 - accuracy: 0.9996\n",
            "Epoch 36/100\n",
            "938/938 [==============================] - 8s 8ms/step - loss: 0.0016 - accuracy: 0.9997\n",
            "Epoch 37/100\n",
            "938/938 [==============================] - 8s 9ms/step - loss: 0.0020 - accuracy: 0.9994\n",
            "Epoch 38/100\n",
            "938/938 [==============================] - 8s 8ms/step - loss: 9.8659e-04 - accuracy: 0.9998\n",
            "Epoch 39/100\n",
            "938/938 [==============================] - 8s 8ms/step - loss: 0.0037 - accuracy: 0.9995\n",
            "Epoch 40/100\n",
            "938/938 [==============================] - 8s 8ms/step - loss: 0.0011 - accuracy: 0.9997\n",
            "Epoch 41/100\n",
            "938/938 [==============================] - 8s 8ms/step - loss: 0.0024 - accuracy: 0.9996\n",
            "Epoch 42/100\n",
            "938/938 [==============================] - 8s 8ms/step - loss: 6.5895e-04 - accuracy: 0.9998\n",
            "Epoch 43/100\n",
            "938/938 [==============================] - 8s 8ms/step - loss: 8.7360e-04 - accuracy: 0.9998\n",
            "Epoch 44/100\n",
            "938/938 [==============================] - 8s 8ms/step - loss: 0.0021 - accuracy: 0.9996\n",
            "Epoch 45/100\n",
            "938/938 [==============================] - 8s 8ms/step - loss: 9.3069e-04 - accuracy: 0.9998\n",
            "Epoch 46/100\n",
            "938/938 [==============================] - 8s 8ms/step - loss: 0.0013 - accuracy: 0.9998\n",
            "Epoch 47/100\n",
            "938/938 [==============================] - 8s 8ms/step - loss: 0.0018 - accuracy: 0.9995\n",
            "Epoch 48/100\n",
            "938/938 [==============================] - 8s 8ms/step - loss: 0.0012 - accuracy: 0.9998\n",
            "Epoch 49/100\n",
            "938/938 [==============================] - 8s 8ms/step - loss: 0.0011 - accuracy: 0.9998\n",
            "Epoch 50/100\n",
            "938/938 [==============================] - 8s 8ms/step - loss: 6.2492e-04 - accuracy: 0.9999\n",
            "Epoch 51/100\n",
            "938/938 [==============================] - 8s 8ms/step - loss: 0.0011 - accuracy: 0.9998\n",
            "Epoch 52/100\n",
            "938/938 [==============================] - 8s 8ms/step - loss: 0.0010 - accuracy: 0.9997\n",
            "Epoch 53/100\n",
            "938/938 [==============================] - 8s 8ms/step - loss: 5.5655e-04 - accuracy: 0.9998\n",
            "Epoch 54/100\n",
            "938/938 [==============================] - 8s 8ms/step - loss: 0.0033 - accuracy: 0.9997\n",
            "Epoch 55/100\n",
            "938/938 [==============================] - 8s 8ms/step - loss: 0.0023 - accuracy: 0.9996\n",
            "Epoch 56/100\n",
            "938/938 [==============================] - 8s 8ms/step - loss: 9.8809e-04 - accuracy: 0.9999\n",
            "Epoch 57/100\n",
            "938/938 [==============================] - 8s 8ms/step - loss: 0.0026 - accuracy: 0.9997\n",
            "Epoch 58/100\n",
            "938/938 [==============================] - 8s 8ms/step - loss: 0.0022 - accuracy: 0.9996\n",
            "Epoch 59/100\n",
            "938/938 [==============================] - 8s 8ms/step - loss: 0.0014 - accuracy: 0.9997\n",
            "Epoch 60/100\n",
            "938/938 [==============================] - 8s 8ms/step - loss: 5.7420e-04 - accuracy: 0.9999\n",
            "Epoch 61/100\n",
            "938/938 [==============================] - 8s 8ms/step - loss: 0.0015 - accuracy: 0.9999\n",
            "Epoch 62/100\n",
            "938/938 [==============================] - 8s 8ms/step - loss: 2.6561e-04 - accuracy: 1.0000\n",
            "Epoch 63/100\n",
            "938/938 [==============================] - 8s 8ms/step - loss: 2.6817e-04 - accuracy: 0.9999\n",
            "Epoch 64/100\n",
            "938/938 [==============================] - 8s 8ms/step - loss: 1.1484e-04 - accuracy: 1.0000\n",
            "Epoch 65/100\n",
            "938/938 [==============================] - 8s 8ms/step - loss: 2.4401e-04 - accuracy: 0.9999\n",
            "Epoch 66/100\n",
            "938/938 [==============================] - 8s 8ms/step - loss: 0.0020 - accuracy: 0.9997\n",
            "Epoch 67/100\n",
            "938/938 [==============================] - 8s 8ms/step - loss: 0.0012 - accuracy: 0.9998\n",
            "Epoch 68/100\n",
            "938/938 [==============================] - 8s 8ms/step - loss: 8.5684e-04 - accuracy: 0.9999\n",
            "Epoch 69/100\n",
            "938/938 [==============================] - 8s 8ms/step - loss: 6.8056e-04 - accuracy: 0.9999\n",
            "Epoch 70/100\n",
            "938/938 [==============================] - 8s 8ms/step - loss: 7.6012e-04 - accuracy: 0.9998\n",
            "Epoch 71/100\n",
            "938/938 [==============================] - 8s 8ms/step - loss: 0.0010 - accuracy: 0.9998\n",
            "Epoch 72/100\n",
            "938/938 [==============================] - 8s 8ms/step - loss: 4.3935e-04 - accuracy: 0.9999\n",
            "Epoch 73/100\n",
            "938/938 [==============================] - 8s 8ms/step - loss: 0.0023 - accuracy: 0.9996\n",
            "Epoch 74/100\n",
            "938/938 [==============================] - 8s 8ms/step - loss: 3.3313e-04 - accuracy: 0.9999\n",
            "Epoch 75/100\n",
            "938/938 [==============================] - 8s 8ms/step - loss: 9.3113e-04 - accuracy: 0.9998\n",
            "Epoch 76/100\n",
            "938/938 [==============================] - 8s 8ms/step - loss: 0.0031 - accuracy: 0.9998\n",
            "Epoch 77/100\n",
            "938/938 [==============================] - 8s 8ms/step - loss: 0.0015 - accuracy: 0.9998\n",
            "Epoch 78/100\n",
            "938/938 [==============================] - 8s 8ms/step - loss: 8.6476e-04 - accuracy: 0.9999\n",
            "Epoch 79/100\n",
            "938/938 [==============================] - 8s 8ms/step - loss: 5.0552e-04 - accuracy: 0.9999\n",
            "Epoch 80/100\n",
            "938/938 [==============================] - 8s 8ms/step - loss: 5.6687e-04 - accuracy: 0.9998\n",
            "Epoch 81/100\n",
            "938/938 [==============================] - 8s 8ms/step - loss: 8.4431e-04 - accuracy: 0.9999\n",
            "Epoch 82/100\n",
            "938/938 [==============================] - 8s 8ms/step - loss: 3.4457e-04 - accuracy: 0.9999\n",
            "Epoch 83/100\n",
            "938/938 [==============================] - 8s 8ms/step - loss: 0.0020 - accuracy: 0.9998\n",
            "Epoch 84/100\n",
            "938/938 [==============================] - 8s 8ms/step - loss: 0.0011 - accuracy: 0.9998\n",
            "Epoch 85/100\n",
            "938/938 [==============================] - 8s 8ms/step - loss: 0.0027 - accuracy: 0.9997\n",
            "Epoch 86/100\n",
            "938/938 [==============================] - 8s 8ms/step - loss: 4.4616e-04 - accuracy: 0.9999\n",
            "Epoch 87/100\n",
            "938/938 [==============================] - 8s 8ms/step - loss: 9.7594e-04 - accuracy: 0.9998\n",
            "Epoch 88/100\n",
            "938/938 [==============================] - 8s 8ms/step - loss: 9.7237e-04 - accuracy: 0.9998\n",
            "Epoch 89/100\n",
            "938/938 [==============================] - 8s 8ms/step - loss: 0.0018 - accuracy: 0.9997\n",
            "Epoch 90/100\n",
            "938/938 [==============================] - 8s 8ms/step - loss: 3.1342e-04 - accuracy: 0.9999\n",
            "Epoch 91/100\n",
            "938/938 [==============================] - 8s 8ms/step - loss: 2.7432e-05 - accuracy: 1.0000\n",
            "Epoch 92/100\n",
            "938/938 [==============================] - 8s 8ms/step - loss: 7.8526e-04 - accuracy: 0.9998\n",
            "Epoch 93/100\n",
            "938/938 [==============================] - 8s 8ms/step - loss: 3.5788e-04 - accuracy: 0.9999\n",
            "Epoch 94/100\n",
            "938/938 [==============================] - 8s 8ms/step - loss: 1.3643e-08 - accuracy: 1.0000\n",
            "Epoch 95/100\n",
            "938/938 [==============================] - 8s 8ms/step - loss: 1.8569e-04 - accuracy: 1.0000\n",
            "Epoch 96/100\n",
            "938/938 [==============================] - 8s 8ms/step - loss: 6.9002e-05 - accuracy: 1.0000\n",
            "Epoch 97/100\n",
            "938/938 [==============================] - 8s 8ms/step - loss: 3.0799e-04 - accuracy: 1.0000\n",
            "Epoch 98/100\n",
            "938/938 [==============================] - 8s 8ms/step - loss: 5.8704e-08 - accuracy: 1.0000\n",
            "Epoch 99/100\n",
            "938/938 [==============================] - 8s 8ms/step - loss: 1.4198e-04 - accuracy: 1.0000\n",
            "Epoch 100/100\n",
            "938/938 [==============================] - 8s 8ms/step - loss: 1.3773e-05 - accuracy: 1.0000\n"
          ],
          "name": "stdout"
        },
        {
          "output_type": "execute_result",
          "data": {
            "text/plain": [
              "<keras.callbacks.History at 0x7f835e2e8c10>"
            ]
          },
          "metadata": {
            "tags": []
          },
          "execution_count": 36
        }
      ]
    },
    {
      "cell_type": "code",
      "metadata": {
        "colab": {
          "base_uri": "https://localhost:8080/"
        },
        "id": "VcLTQjwVChp-",
        "outputId": "5bc6ea0e-53d4-4dce-ba0a-973296c714bc"
      },
      "source": [
        "test_loss, test_accuracy = model.evaluate(test_images, test_labels)"
      ],
      "execution_count": 37,
      "outputs": [
        {
          "output_type": "stream",
          "text": [
            "313/313 [==============================] - 2s 4ms/step - loss: 0.2186 - accuracy: 0.9930\n"
          ],
          "name": "stdout"
        }
      ]
    },
    {
      "cell_type": "code",
      "metadata": {
        "colab": {
          "base_uri": "https://localhost:8080/"
        },
        "id": "Q3DD3AQsDSZQ",
        "outputId": "4e1110d8-5a5d-47a6-9b61-85b1d7013f43"
      },
      "source": [
        "test_accuracy"
      ],
      "execution_count": 38,
      "outputs": [
        {
          "output_type": "execute_result",
          "data": {
            "text/plain": [
              "0.9929999709129333"
            ]
          },
          "metadata": {
            "tags": []
          },
          "execution_count": 38
        }
      ]
    },
    {
      "cell_type": "code",
      "metadata": {
        "id": "Ul34LqNFDd2X",
        "colab": {
          "base_uri": "https://localhost:8080/"
        },
        "outputId": "d8a1f78a-1731-4ce0-b7dc-be63b4a69c4a"
      },
      "source": [
        "predictions = model.predict_classes(test_images)"
      ],
      "execution_count": 39,
      "outputs": [
        {
          "output_type": "stream",
          "text": [
            "/usr/local/lib/python3.7/dist-packages/keras/engine/sequential.py:450: UserWarning: `model.predict_classes()` is deprecated and will be removed after 2021-01-01. Please use instead:* `np.argmax(model.predict(x), axis=-1)`,   if your model does multi-class classification   (e.g. if it uses a `softmax` last-layer activation).* `(model.predict(x) > 0.5).astype(\"int32\")`,   if your model does binary classification   (e.g. if it uses a `sigmoid` last-layer activation).\n",
            "  warnings.warn('`model.predict_classes()` is deprecated and '\n"
          ],
          "name": "stderr"
        }
      ]
    },
    {
      "cell_type": "code",
      "metadata": {
        "colab": {
          "base_uri": "https://localhost:8080/",
          "height": 282
        },
        "id": "jf--Y8_hDzHc",
        "outputId": "e3f1d6bb-d981-4c33-d39a-d2dbee1e27c4"
      },
      "source": [
        "plt.imshow(image.array_to_img(test_images[70]), cmap=\"gray\")"
      ],
      "execution_count": 40,
      "outputs": [
        {
          "output_type": "execute_result",
          "data": {
            "text/plain": [
              "<matplotlib.image.AxesImage at 0x7f835d87f6d0>"
            ]
          },
          "metadata": {
            "tags": []
          },
          "execution_count": 40
        },
        {
          "output_type": "display_data",
          "data": {
            "image/png": "[encoded data removed]",
            "text/plain": [
              "<Figure size 432x288 with 1 Axes>"
            ]
          },
          "metadata": {
            "tags": [],
            "needs_background": "light"
          }
        }
      ]
    },
    {
      "cell_type": "code",
      "metadata": {
        "colab": {
          "base_uri": "https://localhost:8080/"
        },
        "id": "FiN-ft1cFDDd",
        "outputId": "1d3306c9-eb24-4c2e-826e-ac3c7558a9fa"
      },
      "source": [
        "predictions[70]"
      ],
      "execution_count": 41,
      "outputs": [
        {
          "output_type": "execute_result",
          "data": {
            "text/plain": [
              "7"
            ]
          },
          "metadata": {
            "tags": []
          },
          "execution_count": 41
        }
      ]
    },
    {
      "cell_type": "code",
      "metadata": {
        "id": "_UTn-2hbHUoc",
        "colab": {
          "base_uri": "https://localhost:8080/",
          "height": 352
        },
        "outputId": "e4f8d104-c40a-413e-e90b-4e380fc433f6"
      },
      "source": [
        "img=image.load_img(path=\"screen1.png\",grayscale=True, target_size=(28,28,1))\n",
        "img=image.img_to_array(img)\n",
        "plt.imshow(image.array_to_img(img), cmap=\"gray\")\n",
        "img=img.astype('float')/255\n",
        "test_img=img.reshape((1,28,28,1))\n",
        "img_class=model.predict_classes(test_img)\n",
        "prediction=img_class[0]"
      ],
      "execution_count": 42,
      "outputs": [
        {
          "output_type": "stream",
          "text": [
            "/usr/local/lib/python3.7/dist-packages/keras_preprocessing/image/utils.py:107: UserWarning: grayscale is deprecated. Please use color_mode = \"grayscale\"\n",
            "  warnings.warn('grayscale is deprecated. Please use '\n",
            "/usr/local/lib/python3.7/dist-packages/keras/engine/sequential.py:450: UserWarning: `model.predict_classes()` is deprecated and will be removed after 2021-01-01. Please use instead:* `np.argmax(model.predict(x), axis=-1)`,   if your model does multi-class classification   (e.g. if it uses a `softmax` last-layer activation).* `(model.predict(x) > 0.5).astype(\"int32\")`,   if your model does binary classification   (e.g. if it uses a `sigmoid` last-layer activation).\n",
            "  warnings.warn('`model.predict_classes()` is deprecated and '\n"
          ],
          "name": "stderr"
        },
        {
          "output_type": "display_data",
          "data": {
            "image/png": "[encoded data removed]",
            "text/plain": [
              "<Figure size 432x288 with 1 Axes>"
            ]
          },
          "metadata": {
            "tags": [],
            "needs_background": "light"
          }
        }
      ]
    },
    {
      "cell_type": "code",
      "metadata": {
        "colab": {
          "base_uri": "https://localhost:8080/"
        },
        "id": "w1vrMph7ZrIB",
        "outputId": "0b716587-600d-4bb8-a7c5-78c6b60f35ab"
      },
      "source": [
        "prediction"
      ],
      "execution_count": 43,
      "outputs": [
        {
          "output_type": "execute_result",
          "data": {
            "text/plain": [
              "8"
            ]
          },
          "metadata": {
            "tags": []
          },
          "execution_count": 43
        }
      ]
    }
  ]
}